{
 "cells": [
  {
   "cell_type": "code",
   "execution_count": null,
   "metadata": {},
   "outputs": [],
   "source": []
  },
  {
   "cell_type": "code",
   "execution_count": 6,
   "metadata": {},
   "outputs": [
    {
     "name": "stdout",
     "output_type": "stream",
     "text": [
      "[1, 3, 2, 4, 5, 6, 7]\n"
     ]
    }
   ],
   "source": [
    "# -*- coding:utf-8 -*-\n",
    "class TreeNode:\n",
    "    def __init__(self, x):\n",
    "        self.val = x\n",
    "        self.left = None\n",
    "        self.right = None\n",
    "class Solution:\n",
    "    \"\"\"docstring for Solution\"\"\"       \n",
    "    def Print(self, pRoot):\n",
    "        resultArray = []\n",
    "        if not pRoot:\n",
    "            return resultArray\n",
    "        curLayerNodes = [pRoot]\n",
    "        isEvenLayer = True\n",
    "        while curLayerNodes:\n",
    "            curLayerValues = []\n",
    "            nextLayerNodes = []\n",
    "            isEvenLayer = not isEvenLayer\n",
    "            for node in curLayerNodes:\n",
    "                curLayerValues.append(node.val)\n",
    "                if node.left:\n",
    "                    nextLayerNodes.append(node.left)\n",
    "                if node.right:\n",
    "                    nextLayerNodes.append(node.right)\n",
    "            curLayerNodes = nextLayerNodes\n",
    "            resultArray.extend(curLayerValues[::-1]) if isEvenLayer else resultArray.extend(curLayerValues)\n",
    "        return resultArray\n",
    "\n",
    "if __name__ == '__main__':\n",
    "    A1 = TreeNode(1)\n",
    "    A2 = TreeNode(2)\n",
    "    A3 = TreeNode(3)\n",
    "    A4 = TreeNode(4)\n",
    "    A5 = TreeNode(5)\n",
    "    A6 = TreeNode(6)\n",
    "    A7 = TreeNode(7)\n",
    "\n",
    "    A1.left=A2\n",
    "    A1.right=A3\n",
    "    A2.left=A4\n",
    "    A2.right=A5\n",
    "    A3.left=A6\n",
    "    A3.right=A7\n",
    "\n",
    "    solution = Solution()\n",
    "    ans=solution.Print(A1)\n",
    "    print(ans)"
   ]
  },
  {
   "cell_type": "code",
   "execution_count": null,
   "metadata": {},
   "outputs": [],
   "source": []
  },
  {
   "cell_type": "code",
   "execution_count": null,
   "metadata": {},
   "outputs": [],
   "source": []
  },
  {
   "cell_type": "code",
   "execution_count": null,
   "metadata": {},
   "outputs": [],
   "source": []
  },
  {
   "cell_type": "code",
   "execution_count": 14,
   "metadata": {},
   "outputs": [
    {
     "data": {
      "text/plain": [
       "[6, 3, 2]"
      ]
     },
     "execution_count": 14,
     "metadata": {},
     "output_type": "execute_result"
    }
   ],
   "source": [
    "# -*- coding:utf-8 -*-\n",
    "class Solution:\n",
    "    def multiply(self, A):\n",
    "        # write code here\n",
    "        B = []\n",
    "        for i,a in enumerate(A):\n",
    "            left_A = A[:i]\n",
    "            right_A = A[i+1:]\n",
    "            prod_left = 1\n",
    "            prod_right = 1\n",
    "            if left_A:\n",
    "                for la in left_A:\n",
    "                    prod_left*=la\n",
    "            if right_A:\n",
    "                for la in right_A:\n",
    "                    prod_right*=la\n",
    "            B.append(prod_left*prod_right)\n",
    "        return B\n",
    "    \n",
    "Solution().multiply([1,2,3])"
   ]
  },
  {
   "cell_type": "code",
   "execution_count": null,
   "metadata": {},
   "outputs": [],
   "source": []
  },
  {
   "cell_type": "code",
   "execution_count": 10,
   "metadata": {},
   "outputs": [
    {
     "data": {
      "text/plain": [
       "True"
      ]
     },
     "execution_count": 10,
     "metadata": {},
     "output_type": "execute_result"
    }
   ],
   "source": [
    "# -*- coding:utf-8 -*-\n",
    "class Solution:\n",
    "    # 这里要特别注意~找到任意重复的一个值并赋值到duplication[0]\n",
    "    # 函数返回True/False\n",
    "    def duplicate(self, numbers, duplication):\n",
    "        # write code here\n",
    "        n = len(numbers)\n",
    "        if n == 0:\n",
    "            return False\n",
    "        for i in range(n):\n",
    "            index = numbers[i]\n",
    "            if index >= n:\n",
    "                index -= n\n",
    "            if numbers[index] >= n:\n",
    "                duplication[0] = index\n",
    "                return True\n",
    "            numbers[index] += n\n",
    "        return False\n",
    "    \n",
    "Solution().duplicate(numbers=[1,2,2,3],duplication=[2,3])"
   ]
  },
  {
   "cell_type": "code",
   "execution_count": 12,
   "metadata": {},
   "outputs": [
    {
     "data": {
      "text/plain": [
       "[]"
      ]
     },
     "execution_count": 12,
     "metadata": {},
     "output_type": "execute_result"
    }
   ],
   "source": [
    "a=[1,2,3]\n",
    "a[:0]"
   ]
  },
  {
   "cell_type": "code",
   "execution_count": null,
   "metadata": {},
   "outputs": [],
   "source": []
  },
  {
   "cell_type": "code",
   "execution_count": null,
   "metadata": {},
   "outputs": [],
   "source": []
  },
  {
   "cell_type": "code",
   "execution_count": 21,
   "metadata": {},
   "outputs": [
    {
     "data": {
      "text/plain": [
       "0"
      ]
     },
     "execution_count": 21,
     "metadata": {},
     "output_type": "execute_result"
    }
   ],
   "source": [
    "4%4"
   ]
  },
  {
   "cell_type": "code",
   "execution_count": null,
   "metadata": {},
   "outputs": [],
   "source": []
  },
  {
   "cell_type": "code",
   "execution_count": 11,
   "metadata": {},
   "outputs": [
    {
     "data": {
      "text/plain": [
       "1.5"
      ]
     },
     "execution_count": 11,
     "metadata": {},
     "output_type": "execute_result"
    }
   ],
   "source": [
    "3/2"
   ]
  },
  {
   "cell_type": "code",
   "execution_count": 12,
   "metadata": {},
   "outputs": [
    {
     "data": {
      "text/plain": [
       "1"
      ]
     },
     "execution_count": 12,
     "metadata": {},
     "output_type": "execute_result"
    }
   ],
   "source": [
    "3//2"
   ]
  },
  {
   "cell_type": "code",
   "execution_count": null,
   "metadata": {},
   "outputs": [],
   "source": []
  },
  {
   "cell_type": "code",
   "execution_count": null,
   "metadata": {},
   "outputs": [],
   "source": []
  },
  {
   "cell_type": "code",
   "execution_count": null,
   "metadata": {},
   "outputs": [],
   "source": []
  },
  {
   "cell_type": "code",
   "execution_count": 2,
   "metadata": {},
   "outputs": [
    {
     "data": {
      "text/plain": [
       "-1"
      ]
     },
     "execution_count": 2,
     "metadata": {},
     "output_type": "execute_result"
    }
   ],
   "source": [
    "s = 'aabbcdddeffff'\n",
    "s.index(list(filter(lambda c: s.count(c) == 1, s))[0]) if s else -1"
   ]
  },
  {
   "cell_type": "code",
   "execution_count": 6,
   "metadata": {},
   "outputs": [
    {
     "data": {
      "text/plain": [
       "<filter at 0x10754a0b8>"
      ]
     },
     "execution_count": 6,
     "metadata": {},
     "output_type": "execute_result"
    }
   ],
   "source": [
    "s = 'aabbcdddeffff'\n",
    "\n",
    "filter(lambda c:s.count(c)==1,s)"
   ]
  },
  {
   "cell_type": "code",
   "execution_count": 7,
   "metadata": {},
   "outputs": [
    {
     "data": {
      "text/plain": [
       "<function __main__.<lambda>(c)>"
      ]
     },
     "execution_count": 7,
     "metadata": {},
     "output_type": "execute_result"
    }
   ],
   "source": [
    "lambda c:s.count(c)==1"
   ]
  },
  {
   "cell_type": "code",
   "execution_count": 9,
   "metadata": {},
   "outputs": [
    {
     "data": {
      "text/plain": [
       "4"
      ]
     },
     "execution_count": 9,
     "metadata": {},
     "output_type": "execute_result"
    }
   ],
   "source": [
    "s.count('f')"
   ]
  },
  {
   "cell_type": "code",
   "execution_count": null,
   "metadata": {},
   "outputs": [],
   "source": []
  },
  {
   "cell_type": "code",
   "execution_count": 14,
   "metadata": {},
   "outputs": [
    {
     "data": {
      "text/plain": [
       "1"
      ]
     },
     "execution_count": 14,
     "metadata": {},
     "output_type": "execute_result"
    }
   ],
   "source": [
    "# -*- coding:utf-8 -*-\n",
    "class Solution:\n",
    "    def GetUglyNumber_Solution(self, index):\n",
    "        # write code here\n",
    "        if (index<=0) or (not isinstance(index,int)):\n",
    "            return None\n",
    "        i = 0 # to mark the ugly number\n",
    "        num = 1 # to iterate\n",
    "        while True:\n",
    "            if self.isUgly(num):\n",
    "                i+=1\n",
    "                if i == index:\n",
    "                    return num\n",
    "            num+=1\n",
    "             \n",
    "    def isUgly(self, number):\n",
    "        while number%2 == 0:\n",
    "            number/=2\n",
    "        while number%3 == 0:\n",
    "            number/=3\n",
    "        while number%5 == 0:\n",
    "            number/=5\n",
    "        return number==1\n",
    "\n",
    "Solution().GetUglyNumber_Solution(1)"
   ]
  },
  {
   "cell_type": "code",
   "execution_count": null,
   "metadata": {},
   "outputs": [],
   "source": []
  }
 ],
 "metadata": {
  "kernelspec": {
   "display_name": "Python 3",
   "language": "python",
   "name": "python3"
  },
  "language_info": {
   "codemirror_mode": {
    "name": "ipython",
    "version": 3
   },
   "file_extension": ".py",
   "mimetype": "text/x-python",
   "name": "python",
   "nbconvert_exporter": "python",
   "pygments_lexer": "ipython3",
   "version": "3.7.1"
  }
 },
 "nbformat": 4,
 "nbformat_minor": 2
}
