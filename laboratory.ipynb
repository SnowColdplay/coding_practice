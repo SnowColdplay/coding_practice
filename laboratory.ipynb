{
 "cells": [
  {
   "cell_type": "code",
   "execution_count": 14,
   "metadata": {},
   "outputs": [
    {
     "data": {
      "text/plain": [
       "1"
      ]
     },
     "execution_count": 14,
     "metadata": {},
     "output_type": "execute_result"
    }
   ],
   "source": [
    "# -*- coding:utf-8 -*-\n",
    "class Solution:\n",
    "    def GetUglyNumber_Solution(self, index):\n",
    "        # write code here\n",
    "        if (index<=0) or (not isinstance(index,int)):\n",
    "            return None\n",
    "        i = 0 # to mark the ugly number\n",
    "        num = 1 # to iterate\n",
    "        while True:\n",
    "            if self.isUgly(num):\n",
    "                i+=1\n",
    "                if i == index:\n",
    "                    return num\n",
    "            num+=1\n",
    "             \n",
    "    def isUgly(self, number):\n",
    "        while number%2 == 0:\n",
    "            number/=2\n",
    "        while number%3 == 0:\n",
    "            number/=3\n",
    "        while number%5 == 0:\n",
    "            number/=5\n",
    "        return number==1\n",
    "\n",
    "Solution().GetUglyNumber_Solution(1)"
   ]
  },
  {
   "cell_type": "code",
   "execution_count": null,
   "metadata": {},
   "outputs": [],
   "source": []
  }
 ],
 "metadata": {
  "kernelspec": {
   "display_name": "Python 3",
   "language": "python",
   "name": "python3"
  },
  "language_info": {
   "codemirror_mode": {
    "name": "ipython",
    "version": 3
   },
   "file_extension": ".py",
   "mimetype": "text/x-python",
   "name": "python",
   "nbconvert_exporter": "python",
   "pygments_lexer": "ipython3",
   "version": "3.6.7"
  }
 },
 "nbformat": 4,
 "nbformat_minor": 2
}
