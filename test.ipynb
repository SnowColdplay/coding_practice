{
 "cells": [
  {
   "cell_type": "code",
   "execution_count": 48,
   "metadata": {
    "scrolled": true
   },
   "outputs": [
    {
     "name": "stdout",
     "output_type": "stream",
     "text": [
      "=====before=====\n",
      "[2, 4, 7, 3, 5, 6, 8]\n",
      "================\n",
      "=====before=====\n",
      "[4, 7, 3, 5, 6, 8]\n",
      "================\n",
      "=====before=====\n",
      "[7, 3, 5, 6, 8]\n",
      "================\n",
      "=====left=====\n",
      "[7, 3, 5, 6, 8]\n",
      "================\n",
      "=====before=====\n",
      "[3, 5, 6, 8]\n",
      "================\n",
      "=====left=====\n",
      "[3, 5, 6, 8]\n",
      "================\n",
      "=====right=====\n",
      "[3, 5, 6, 8]\n",
      "================\n",
      "=====tin=====\n",
      "[7]\n",
      "================\n",
      "=====right=====\n",
      "[3, 5, 6, 8]\n",
      "================\n",
      "=====tin=====\n",
      "[4, 7]\n",
      "================\n",
      "=====left=====\n",
      "[3, 5, 6, 8]\n",
      "================\n",
      "=====right=====\n",
      "[3, 5, 6, 8]\n",
      "================\n",
      "=====tin=====\n",
      "[4, 7, 2]\n",
      "================\n",
      "=====left=====\n",
      "[3, 5, 6, 8]\n",
      "================\n",
      "=====before=====\n",
      "[5, 6, 8]\n",
      "================\n",
      "=====before=====\n",
      "[6, 8]\n",
      "================\n",
      "=====left=====\n",
      "[6, 8]\n",
      "================\n",
      "=====right=====\n",
      "[6, 8]\n",
      "================\n",
      "=====tin=====\n",
      "[5]\n",
      "================\n",
      "=====left=====\n",
      "[6, 8]\n",
      "================\n",
      "=====before=====\n",
      "[8]\n",
      "================\n",
      "=====before=====\n",
      "[]\n",
      "================\n",
      "=====left=====\n",
      "[]\n",
      "================\n",
      "=====right=====\n",
      "[]\n",
      "================\n",
      "=====tin=====\n",
      "[8]\n",
      "================\n",
      "=====left=====\n",
      "[]\n",
      "================\n",
      "=====right=====\n",
      "[]\n",
      "================\n",
      "=====tin=====\n",
      "[8, 6]\n",
      "================\n",
      "=====right=====\n",
      "[]\n",
      "================\n",
      "=====tin=====\n",
      "[5, 3, 8, 6]\n",
      "================\n",
      "=====right=====\n",
      "[]\n",
      "================\n",
      "=====tin=====\n",
      "[4, 7, 2, 1, 5, 3, 8, 6]\n",
      "================\n"
     ]
    }
   ],
   "source": [
    "# -*- coding:utf-8 -*-\n",
    "class TreeNode:\n",
    "    def __init__(self, x):\n",
    "        self.val = x\n",
    "        self.left = None\n",
    "        self.right = None\n",
    "class Solution:\n",
    "    # 返回构造的TreeNode根节点\n",
    "    def reConstructBinaryTree(self, pre, tin):\n",
    "        # write code here\n",
    "        if not pre or not tin:\n",
    "            return None\n",
    "        root = TreeNode(pre.pop(0))\n",
    "        index = tin.index(root.val)\n",
    "        \n",
    "        print(\"=====before=====\")\n",
    "        print(pre)\n",
    "        print(\"================\")\n",
    "        root.left = self.reConstructBinaryTree(pre, tin[:index])\n",
    "        \n",
    "        print(\"=====left=====\")\n",
    "        print(pre)\n",
    "        print(\"================\")\n",
    "        \n",
    "        root.right = self.reConstructBinaryTree(pre, tin[index + 1:])\n",
    "        print(\"=====right=====\")\n",
    "        print(pre)\n",
    "        print(\"================\")\n",
    "        print(\"=====tin=====\")\n",
    "        print(tin)\n",
    "        print(\"================\")\n",
    "        \n",
    "        return root\n",
    "    \n",
    "a = [1,2,4,7,3,5,6,8]\n",
    "b = [4,7,2,1,5,3,8,6]\n",
    "\n",
    "so = Solution()\n",
    "aaa = so.reConstructBinaryTree(a,b)"
   ]
  },
  {
   "cell_type": "code",
   "execution_count": 41,
   "metadata": {},
   "outputs": [
    {
     "data": {
      "text/plain": [
       "[1, 2, 4, 7, 3, 5, 6, 8]"
      ]
     },
     "execution_count": 41,
     "metadata": {},
     "output_type": "execute_result"
    }
   ],
   "source": [
    "a = [1,2,4,7,3,5,6,8]\n",
    "a"
   ]
  },
  {
   "cell_type": "code",
   "execution_count": 44,
   "metadata": {},
   "outputs": [
    {
     "data": {
      "text/plain": [
       "[7, 3, 5, 6, 8]"
      ]
     },
     "execution_count": 44,
     "metadata": {},
     "output_type": "execute_result"
    }
   ],
   "source": [
    "a.pop(0)\n",
    "a"
   ]
  },
  {
   "cell_type": "code",
   "execution_count": null,
   "metadata": {},
   "outputs": [],
   "source": []
  },
  {
   "cell_type": "code",
   "execution_count": 9,
   "metadata": {},
   "outputs": [],
   "source": [
    "s = ' hellow world! '\n",
    "def replaceSpace(self, s):\n",
    "    # write code here\n",
    "    raw = ''\n",
    "    for i in s.split(' '):\n",
    "        if i ==' ':\n",
    "            raw+= '%20'\n",
    "        else:\n",
    "            raw+=i\n",
    "    return raw"
   ]
  },
  {
   "cell_type": "code",
   "execution_count": null,
   "metadata": {},
   "outputs": [],
   "source": []
  }
 ],
 "metadata": {
  "kernelspec": {
   "display_name": "Python 3",
   "language": "python",
   "name": "python3"
  },
  "language_info": {
   "codemirror_mode": {
    "name": "ipython",
    "version": 3
   },
   "file_extension": ".py",
   "mimetype": "text/x-python",
   "name": "python",
   "nbconvert_exporter": "python",
   "pygments_lexer": "ipython3",
   "version": "3.6.7"
  }
 },
 "nbformat": 4,
 "nbformat_minor": 2
}
